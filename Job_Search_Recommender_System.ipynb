{
  "nbformat": 4,
  "nbformat_minor": 0,
  "metadata": {
    "colab": {
      "name": "Job Search Recommender System.ipynb",
      "provenance": [],
      "collapsed_sections": [],
      "include_colab_link": true
    },
    "kernelspec": {
      "name": "python3",
      "display_name": "Python 3"
    },
    "language_info": {
      "name": "python"
    }
  },
  "cells": [
    {
      "cell_type": "markdown",
      "metadata": {
        "id": "view-in-github",
        "colab_type": "text"
      },
      "source": [
        "<a href=\"https://colab.research.google.com/github/samsontran/Job-Search-Recommender-System/blob/main/Job_Search_Recommender_System.ipynb\" target=\"_parent\"><img src=\"https://colab.research.google.com/assets/colab-badge.svg\" alt=\"Open In Colab\"/></a>"
      ]
    },
    {
      "cell_type": "markdown",
      "metadata": {
        "id": "Q2Z001JtfcUR"
      },
      "source": [
        "#Objectective: From webscrapings of LinkedIn and Glassdoor job postings, which jobs should we recommend to a user based on their search query/statement?\n",
        "\n"
      ]
    },
    {
      "cell_type": "code",
      "metadata": {
        "colab": {
          "base_uri": "https://localhost:8080/"
        },
        "id": "Cg3yfULnWZMk",
        "outputId": "4f43788f-7d8d-49c0-be3e-dd7c85fc9d99"
      },
      "source": [
        "!pip install rank_bm25"
      ],
      "execution_count": null,
      "outputs": [
        {
          "output_type": "stream",
          "name": "stdout",
          "text": [
            "Requirement already satisfied: rank_bm25 in /usr/local/lib/python3.7/dist-packages (0.2.1)\n",
            "Requirement already satisfied: numpy in /usr/local/lib/python3.7/dist-packages (from rank_bm25) (1.19.5)\n"
          ]
        }
      ]
    },
    {
      "cell_type": "code",
      "metadata": {
        "colab": {
          "base_uri": "https://localhost:8080/"
        },
        "id": "HXocAsftfZ1d",
        "outputId": "9e9b8862-f9e6-4940-e525-9940f167c7e4"
      },
      "source": [
        "# import libraries\n",
        "import pandas as pd\n",
        "import numpy as np\n",
        "from rank_bm25 import *\n",
        "import re\n",
        "import string\n",
        "\n",
        "import nltk\n",
        "from nltk.tokenize import word_tokenize\n",
        "from nltk.corpus import stopwords\n",
        "from sklearn.feature_extraction import text\n",
        "from nltk.stem import PorterStemmer\n",
        "from sklearn.feature_extraction.text import TfidfVectorizer\n",
        "from sklearn.metrics.pairwise import linear_kernel\n",
        "\n",
        "nltk.download('stopwords')\n",
        "nltk.download('punkt')"
      ],
      "execution_count": null,
      "outputs": [
        {
          "output_type": "stream",
          "name": "stdout",
          "text": [
            "[nltk_data] Downloading package stopwords to /root/nltk_data...\n",
            "[nltk_data]   Package stopwords is already up-to-date!\n",
            "[nltk_data] Downloading package punkt to /root/nltk_data...\n",
            "[nltk_data]   Package punkt is already up-to-date!\n"
          ]
        },
        {
          "output_type": "execute_result",
          "data": {
            "text/plain": [
              "True"
            ]
          },
          "metadata": {},
          "execution_count": 7
        }
      ]
    },
    {
      "cell_type": "markdown",
      "source": [
        "###Text Preprocessing"
      ],
      "metadata": {
        "id": "xt17PtbIvPpB"
      }
    },
    {
      "cell_type": "code",
      "metadata": {
        "id": "6M1FJngIgcZq"
      },
      "source": [
        "# remove puncturation, stopwords and set all characters to lower case\n",
        "def text_preprocess(text):\n",
        "  new_text = re.sub(r'@\\S+', '', text)\n",
        "  new_text = re.compile(\"[\" + re.escape(string.punctuation) + '’'+ \"]\").sub('', text)\n",
        "  new_text = remove_stopwords(str.lower(new_text))\n",
        "\n",
        "  return new_text\n",
        "\n",
        "STOPWORD = list(set(list(stopwords.words('english')) + list(text.ENGLISH_STOP_WORDS)))\n",
        "def remove_stopwords(text):\n",
        "  return \" \".join([word for word in text.split(\" \") if word not in STOPWORD])"
      ],
      "execution_count": null,
      "outputs": []
    },
    {
      "cell_type": "markdown",
      "source": [
        "###Develop search engine using BM-25F approach"
      ],
      "metadata": {
        "id": "r8UjXtm7zgBq"
      }
    },
    {
      "cell_type": "code",
      "metadata": {
        "id": "255q2ZrIhjhg"
      },
      "source": [
        "# load in dataset of Excel spreadsheet with Data Science related jobs from previous LinkedIn webscraping\n",
        "df = pd.read_excel('LinkedIn Job Data_Data Scientist in Canada.xlsx')\n",
        "df2 = pd.read_csv('glassdoor job data.csv')\n",
        "df2 = df2.drop(columns=['company_starRating', 'company_roleLocation']).rename(columns={\"companyName\": \"Company\", \"company_offeredRole\": \"Title\", \"listing_jobDesc\": \"Description\", \"requested_url\": \"Link\"})\n",
        "df = pd.concat([df, df2])\n",
        "df = df.drop(columns=['ID']).dropna().drop_duplicates(subset=['Description'])"
      ],
      "execution_count": null,
      "outputs": []
    },
    {
      "cell_type": "code",
      "metadata": {
        "colab": {
          "base_uri": "https://localhost:8080/",
          "height": 510
        },
        "id": "IIku7PBqh2ud",
        "outputId": "5be3bc27-f335-4dc0-a303-5d8783336a2d"
      },
      "source": [
        "df"
      ],
      "execution_count": null,
      "outputs": [
        {
          "output_type": "execute_result",
          "data": {
            "text/html": [
              "<div>\n",
              "<style scoped>\n",
              "    .dataframe tbody tr th:only-of-type {\n",
              "        vertical-align: middle;\n",
              "    }\n",
              "\n",
              "    .dataframe tbody tr th {\n",
              "        vertical-align: top;\n",
              "    }\n",
              "\n",
              "    .dataframe thead th {\n",
              "        text-align: right;\n",
              "    }\n",
              "</style>\n",
              "<table border=\"1\" class=\"dataframe\">\n",
              "  <thead>\n",
              "    <tr style=\"text-align: right;\">\n",
              "      <th></th>\n",
              "      <th>Company</th>\n",
              "      <th>Title</th>\n",
              "      <th>Description</th>\n",
              "      <th>Link</th>\n",
              "    </tr>\n",
              "  </thead>\n",
              "  <tbody>\n",
              "    <tr>\n",
              "      <th>0</th>\n",
              "      <td>Twitter</td>\n",
              "      <td>Data Scientist - Product Data Science</td>\n",
              "      <td>Company Description  Twitter serves the public...</td>\n",
              "      <td>https://ca.linkedin.com/jobs/view/data-scienti...</td>\n",
              "    </tr>\n",
              "    <tr>\n",
              "      <th>1</th>\n",
              "      <td>Walmart Canada</td>\n",
              "      <td>Data Scientist</td>\n",
              "      <td>Position Summary...The Data Scientist represen...</td>\n",
              "      <td>https://ca.linkedin.com/jobs/view/data-scienti...</td>\n",
              "    </tr>\n",
              "    <tr>\n",
              "      <th>2</th>\n",
              "      <td>Morgan Stanley</td>\n",
              "      <td>Data Scientist</td>\n",
              "      <td>We Offer  To work with some of the best profes...</td>\n",
              "      <td>https://ca.linkedin.com/jobs/view/data-scienti...</td>\n",
              "    </tr>\n",
              "    <tr>\n",
              "      <th>3</th>\n",
              "      <td>Samsung Electronics</td>\n",
              "      <td>Data Scientist</td>\n",
              "      <td>Position Summary  Do you believe in the power ...</td>\n",
              "      <td>https://ca.linkedin.com/jobs/view/data-scienti...</td>\n",
              "    </tr>\n",
              "    <tr>\n",
              "      <th>4</th>\n",
              "      <td>Yelp</td>\n",
              "      <td>Data Scientist (Remote)</td>\n",
              "      <td>At Yelp, it’s our mission to connect people wi...</td>\n",
              "      <td>https://ca.linkedin.com/jobs/view/data-scienti...</td>\n",
              "    </tr>\n",
              "    <tr>\n",
              "      <th>...</th>\n",
              "      <td>...</td>\n",
              "      <td>...</td>\n",
              "      <td>...</td>\n",
              "      <td>...</td>\n",
              "    </tr>\n",
              "    <tr>\n",
              "      <th>176</th>\n",
              "      <td>IBM.css-1pmc6te{-webkit-align-items:center;-we...</td>\n",
              "      <td>Data Scientist – IBM Garage – Summit 2022</td>\n",
              "      <td>\\nDemonstrate a growth mindset and continuous ...</td>\n",
              "      <td>https://www.glassdoor.com/partner/jobListing.h...</td>\n",
              "    </tr>\n",
              "    <tr>\n",
              "      <th>177</th>\n",
              "      <td>Amazon Dev Centre Canada ULC.css-1pmc6te{-webk...</td>\n",
              "      <td>Data Scientist</td>\n",
              "      <td>Bachelor’s degree in Statistics, Applied Math,...</td>\n",
              "      <td>https://www.glassdoor.com/partner/jobListing.h...</td>\n",
              "    </tr>\n",
              "    <tr>\n",
              "      <th>233</th>\n",
              "      <td>Allstate Canada.css-1pmc6te{-webkit-align-item...</td>\n",
              "      <td>DATA SCIENTIST</td>\n",
              "      <td>.css-1yuy9gt{display:-webkit-box;-webkit-line-...</td>\n",
              "      <td>https://www.glassdoor.com/partner/jobListing.h...</td>\n",
              "    </tr>\n",
              "    <tr>\n",
              "      <th>311</th>\n",
              "      <td>Virtus Groups</td>\n",
              "      <td>Senior Machine Learning Engineer/ Data Scientist</td>\n",
              "      <td>Thorough understanding of Python Comfortable l...</td>\n",
              "      <td>https://www.glassdoor.com/partner/jobListing.h...</td>\n",
              "    </tr>\n",
              "    <tr>\n",
              "      <th>446</th>\n",
              "      <td>Loblaw Companies Limited.css-1pmc6te{-webkit-a...</td>\n",
              "      <td>Data Science Analyst</td>\n",
              "      <td>Responsible for the extraction and analysis of...</td>\n",
              "      <td>https://www.glassdoor.com/partner/jobListing.h...</td>\n",
              "    </tr>\n",
              "  </tbody>\n",
              "</table>\n",
              "<p>883 rows × 4 columns</p>\n",
              "</div>"
            ],
            "text/plain": [
              "                                               Company  ...                                               Link\n",
              "0                                              Twitter  ...  https://ca.linkedin.com/jobs/view/data-scienti...\n",
              "1                                       Walmart Canada  ...  https://ca.linkedin.com/jobs/view/data-scienti...\n",
              "2                                       Morgan Stanley  ...  https://ca.linkedin.com/jobs/view/data-scienti...\n",
              "3                                  Samsung Electronics  ...  https://ca.linkedin.com/jobs/view/data-scienti...\n",
              "4                                                 Yelp  ...  https://ca.linkedin.com/jobs/view/data-scienti...\n",
              "..                                                 ...  ...                                                ...\n",
              "176  IBM.css-1pmc6te{-webkit-align-items:center;-we...  ...  https://www.glassdoor.com/partner/jobListing.h...\n",
              "177  Amazon Dev Centre Canada ULC.css-1pmc6te{-webk...  ...  https://www.glassdoor.com/partner/jobListing.h...\n",
              "233  Allstate Canada.css-1pmc6te{-webkit-align-item...  ...  https://www.glassdoor.com/partner/jobListing.h...\n",
              "311                                      Virtus Groups  ...  https://www.glassdoor.com/partner/jobListing.h...\n",
              "446  Loblaw Companies Limited.css-1pmc6te{-webkit-a...  ...  https://www.glassdoor.com/partner/jobListing.h...\n",
              "\n",
              "[883 rows x 4 columns]"
            ]
          },
          "metadata": {},
          "execution_count": 11
        }
      ]
    },
    {
      "cell_type": "code",
      "metadata": {
        "id": "T62sQDamh0-a"
      },
      "source": [
        "descriptions = df[\"Description\"]"
      ],
      "execution_count": null,
      "outputs": []
    },
    {
      "cell_type": "code",
      "metadata": {
        "colab": {
          "base_uri": "https://localhost:8080/"
        },
        "id": "v59oAsSNkGQC",
        "outputId": "2f719d8d-9b96-4ceb-8222-4f91445e1f6f"
      },
      "source": [
        "descriptions"
      ],
      "execution_count": null,
      "outputs": [
        {
          "output_type": "execute_result",
          "data": {
            "text/plain": [
              "0      Company Description  Twitter serves the public...\n",
              "1      Position Summary...The Data Scientist represen...\n",
              "2      We Offer  To work with some of the best profes...\n",
              "3      Position Summary  Do you believe in the power ...\n",
              "4      At Yelp, it’s our mission to connect people wi...\n",
              "                             ...                        \n",
              "176    \\nDemonstrate a growth mindset and continuous ...\n",
              "177    Bachelor’s degree in Statistics, Applied Math,...\n",
              "233    .css-1yuy9gt{display:-webkit-box;-webkit-line-...\n",
              "311    Thorough understanding of Python Comfortable l...\n",
              "446    Responsible for the extraction and analysis of...\n",
              "Name: Description, Length: 883, dtype: object"
            ]
          },
          "metadata": {},
          "execution_count": 13
        }
      ]
    },
    {
      "cell_type": "code",
      "metadata": {
        "id": "cA_jT7pzg9Np"
      },
      "source": [
        "# initialize bm25 with selected data\n",
        "tokenized_corpus = [doc.split(\" \") for doc in np.array(descriptions)]\n",
        "bm25 = BM25Okapi(tokenized_corpus)\n",
        "query = \"data science\"\n",
        "tokenized_query = query.split(\" \")"
      ],
      "execution_count": null,
      "outputs": []
    },
    {
      "cell_type": "code",
      "metadata": {
        "colab": {
          "base_uri": "https://localhost:8080/"
        },
        "id": "aa-Fa66QiA6z",
        "outputId": "cc40c9da-b20e-4861-c461-419b00d6dbe9"
      },
      "source": [
        "doc_scores = bm25.get_scores(tokenized_query)\n",
        "print(doc_scores[:10])"
      ],
      "execution_count": null,
      "outputs": [
        {
          "output_type": "stream",
          "name": "stdout",
          "text": [
            "[3.8674797  4.0144277  3.63166059 2.95037712 2.87196488 1.85025555\n",
            " 3.41249983 3.65676377 1.67258395 2.71365618]\n"
          ]
        }
      ]
    },
    {
      "cell_type": "code",
      "metadata": {
        "colab": {
          "base_uri": "https://localhost:8080/",
          "height": 206
        },
        "id": "_EOOOBzciLPm",
        "outputId": "eab12d8d-c785-497a-e5dc-1f9bcb842737"
      },
      "source": [
        "docs = bm25.get_top_n(tokenized_query, descriptions, n=5)\n",
        "df_search = df[descriptions.isin(docs)]\n",
        "df_search.head()"
      ],
      "execution_count": null,
      "outputs": [
        {
          "output_type": "execute_result",
          "data": {
            "text/html": [
              "<div>\n",
              "<style scoped>\n",
              "    .dataframe tbody tr th:only-of-type {\n",
              "        vertical-align: middle;\n",
              "    }\n",
              "\n",
              "    .dataframe tbody tr th {\n",
              "        vertical-align: top;\n",
              "    }\n",
              "\n",
              "    .dataframe thead th {\n",
              "        text-align: right;\n",
              "    }\n",
              "</style>\n",
              "<table border=\"1\" class=\"dataframe\">\n",
              "  <thead>\n",
              "    <tr style=\"text-align: right;\">\n",
              "      <th></th>\n",
              "      <th>Company</th>\n",
              "      <th>Title</th>\n",
              "      <th>Description</th>\n",
              "      <th>Link</th>\n",
              "    </tr>\n",
              "  </thead>\n",
              "  <tbody>\n",
              "    <tr>\n",
              "      <th>117</th>\n",
              "      <td>BrainFinance</td>\n",
              "      <td>Analytics Data Scientist</td>\n",
              "      <td>BrainFinance is a leading financial technology...</td>\n",
              "      <td>https://ca.linkedin.com/jobs/view/analytics-da...</td>\n",
              "    </tr>\n",
              "    <tr>\n",
              "      <th>136</th>\n",
              "      <td>Interac Corp.</td>\n",
              "      <td>Senior Data Scientist</td>\n",
              "      <td>Are you interested in working for a company as...</td>\n",
              "      <td>https://ca.linkedin.com/jobs/view/senior-data-...</td>\n",
              "    </tr>\n",
              "    <tr>\n",
              "      <th>168</th>\n",
              "      <td>OpenText</td>\n",
              "      <td>AI Data Scientist</td>\n",
              "      <td>Opentext - The Information Company  As the Inf...</td>\n",
              "      <td>https://ca.linkedin.com/jobs/view/ai-data-scie...</td>\n",
              "    </tr>\n",
              "    <tr>\n",
              "      <th>304</th>\n",
              "      <td>Hopper</td>\n",
              "      <td>Sr Data Scientist, Hotels Marketplace</td>\n",
              "      <td>Hopper offers a remote work policy that empowe...</td>\n",
              "      <td>https://ca.linkedin.com/jobs/view/sr-data-scie...</td>\n",
              "    </tr>\n",
              "    <tr>\n",
              "      <th>482</th>\n",
              "      <td>Workday</td>\n",
              "      <td>Senior Data Scientist, Machine Learning - Spen...</td>\n",
              "      <td>Do what you love. Love what you do.  At Workd...</td>\n",
              "      <td>https://ca.linkedin.com/jobs/view/senior-data-...</td>\n",
              "    </tr>\n",
              "  </tbody>\n",
              "</table>\n",
              "</div>"
            ],
            "text/plain": [
              "           Company  ...                                               Link\n",
              "117   BrainFinance  ...  https://ca.linkedin.com/jobs/view/analytics-da...\n",
              "136  Interac Corp.  ...  https://ca.linkedin.com/jobs/view/senior-data-...\n",
              "168       OpenText  ...  https://ca.linkedin.com/jobs/view/ai-data-scie...\n",
              "304         Hopper  ...  https://ca.linkedin.com/jobs/view/sr-data-scie...\n",
              "482        Workday  ...  https://ca.linkedin.com/jobs/view/senior-data-...\n",
              "\n",
              "[5 rows x 4 columns]"
            ]
          },
          "metadata": {},
          "execution_count": 17
        }
      ]
    },
    {
      "cell_type": "markdown",
      "source": [
        "###Example on a search based on a personal statement"
      ],
      "metadata": {
        "id": "XVqM_oWeyHEv"
      }
    },
    {
      "cell_type": "code",
      "metadata": {
        "id": "75aX4vURfxhY"
      },
      "source": [
        "personal_statement = \"I am finishing up my studies at the University of Toronto towards Bachelor of Science, Computer Science Specialist with focus in Artificial Intelligence. Through the first two years of the program, I obtained a strong foundation in computer science subjects. I applied critical thinking and strong problem-solving skills towards course-based assignments and projects.\""
      ],
      "execution_count": null,
      "outputs": []
    },
    {
      "cell_type": "code",
      "metadata": {
        "colab": {
          "base_uri": "https://localhost:8080/",
          "height": 206
        },
        "id": "gE7d7aaci4T7",
        "outputId": "771d50ca-5d45-4187-d404-7439365e86ac"
      },
      "source": [
        "query = personal_statement\n",
        "tokenized_query = query.split(\" \")\n",
        "\n",
        "docs = bm25.get_top_n(tokenized_query, descriptions, n=5)\n",
        "df_search = df[descriptions.isin(docs)]\n",
        "df_search.head()"
      ],
      "execution_count": null,
      "outputs": [
        {
          "output_type": "execute_result",
          "data": {
            "text/html": [
              "<div>\n",
              "<style scoped>\n",
              "    .dataframe tbody tr th:only-of-type {\n",
              "        vertical-align: middle;\n",
              "    }\n",
              "\n",
              "    .dataframe tbody tr th {\n",
              "        vertical-align: top;\n",
              "    }\n",
              "\n",
              "    .dataframe thead th {\n",
              "        text-align: right;\n",
              "    }\n",
              "</style>\n",
              "<table border=\"1\" class=\"dataframe\">\n",
              "  <thead>\n",
              "    <tr style=\"text-align: right;\">\n",
              "      <th></th>\n",
              "      <th>Company</th>\n",
              "      <th>Title</th>\n",
              "      <th>Description</th>\n",
              "      <th>Link</th>\n",
              "    </tr>\n",
              "  </thead>\n",
              "  <tbody>\n",
              "    <tr>\n",
              "      <th>237</th>\n",
              "      <td>Dribbble</td>\n",
              "      <td>Machine Learning Engineer</td>\n",
              "      <td>Founded in 2009, Dribbble is the top global co...</td>\n",
              "      <td>https://ca.linkedin.com/jobs/view/machine-lear...</td>\n",
              "    </tr>\n",
              "    <tr>\n",
              "      <th>289</th>\n",
              "      <td>MonetizeMore</td>\n",
              "      <td>Remote Data Scientist</td>\n",
              "      <td>MonetizeMore builds industry leading ad techno...</td>\n",
              "      <td>https://ca.linkedin.com/jobs/view/remote-data-...</td>\n",
              "    </tr>\n",
              "    <tr>\n",
              "      <th>434</th>\n",
              "      <td>Intelcom</td>\n",
              "      <td>Data Scientist, Gestion des revenus</td>\n",
              "      <td>Description Du Poste Intelcom est un important...</td>\n",
              "      <td>https://ca.linkedin.com/jobs/view/data-scienti...</td>\n",
              "    </tr>\n",
              "    <tr>\n",
              "      <th>542</th>\n",
              "      <td>Twitter</td>\n",
              "      <td>Senior Machine Learning Engineer, Topics / NLP</td>\n",
              "      <td>Company Description  Twitter is what’s happeni...</td>\n",
              "      <td>https://ca.linkedin.com/jobs/view/senior-machi...</td>\n",
              "    </tr>\n",
              "    <tr>\n",
              "      <th>614</th>\n",
              "      <td>Twitter</td>\n",
              "      <td>Software Engineer - Machine Learning, Recommen...</td>\n",
              "      <td>Company Description  Twitter is what’s happeni...</td>\n",
              "      <td>https://ca.linkedin.com/jobs/view/software-eng...</td>\n",
              "    </tr>\n",
              "  </tbody>\n",
              "</table>\n",
              "</div>"
            ],
            "text/plain": [
              "          Company  ...                                               Link\n",
              "237      Dribbble  ...  https://ca.linkedin.com/jobs/view/machine-lear...\n",
              "289  MonetizeMore  ...  https://ca.linkedin.com/jobs/view/remote-data-...\n",
              "434      Intelcom  ...  https://ca.linkedin.com/jobs/view/data-scienti...\n",
              "542       Twitter  ...  https://ca.linkedin.com/jobs/view/senior-machi...\n",
              "614       Twitter  ...  https://ca.linkedin.com/jobs/view/software-eng...\n",
              "\n",
              "[5 rows x 4 columns]"
            ]
          },
          "metadata": {},
          "execution_count": 18
        }
      ]
    },
    {
      "cell_type": "markdown",
      "source": [
        "###Develop search engine using TF-IDF approach"
      ],
      "metadata": {
        "id": "AyJJ8ffly6Pc"
      }
    },
    {
      "cell_type": "markdown",
      "metadata": {
        "id": "ECCWDnHzpega"
      },
      "source": [
        "Find similar jobs from one of the job posts in Glassdoor dataset"
      ]
    },
    {
      "cell_type": "code",
      "metadata": {
        "id": "ZPoTMkUAplf1"
      },
      "source": [
        "df = pd.read_excel('LinkedIn Job Data_Data Scientist in Canada.xlsx')\n",
        "df2 = pd.read_csv('glassdoor job data.csv')\n",
        "df2 = df2.drop(columns=['company_starRating', 'company_roleLocation']).rename(columns={\"companyName\": \"Company\", \"company_offeredRole\": \"Title\", \"listing_jobDesc\": \"Description\", \"requested_url\": \"Link\"})\n",
        "df = pd.concat([df, df2])\n",
        "df = df.drop(columns=['ID']).dropna().drop_duplicates(subset=['Description'])"
      ],
      "execution_count": null,
      "outputs": []
    },
    {
      "cell_type": "code",
      "metadata": {
        "id": "YmlmB4xmpntN"
      },
      "source": [
        "def df_preprocess(df):\n",
        "  df = df.apply(lambda x: re.sub(r'@\\S+', '', x))\n",
        "  df = df.apply(lambda x: re.compile(\"[\" + re.escape(string.punctuation) + '’'+ \"]\").sub('', x))\n",
        "  df = df.apply(lambda x: str.lower(x))\n",
        "  df = df.apply(lambda x: remove_stopwords(x))\n",
        "\n",
        "  return df[df != \"\"]\n",
        "\n",
        "STOPWORD = list(set(list(stopwords.words('english')) + list(text.ENGLISH_STOP_WORDS)))\n",
        "def remove_stopwords(text):\n",
        "  return \" \".join([word for word in text.split(\" \") if word not in STOPWORD])"
      ],
      "execution_count": null,
      "outputs": []
    },
    {
      "cell_type": "code",
      "metadata": {
        "id": "LgjuqL4wqpoM"
      },
      "source": [
        "descriptions = df_preprocess(df[\"Description\"])"
      ],
      "execution_count": null,
      "outputs": []
    },
    {
      "cell_type": "code",
      "metadata": {
        "id": "5wo-tU4pqJSS"
      },
      "source": [
        "tfidf = TfidfVectorizer()\n",
        "tfidf_matrix  = tfidf.fit_transform(descriptions)\n",
        "cosine_sim = linear_kernel(tfidf_matrix, tfidf_matrix)"
      ],
      "execution_count": null,
      "outputs": []
    },
    {
      "cell_type": "code",
      "metadata": {
        "id": "NfMv4cBms4zb"
      },
      "source": [
        "# this function returns jobs similar to the job with provided job index in the cosine matrix\n",
        "def find_similar_jobs(job_idx, top, cosine_sim=cosine_sim):\n",
        "  sim_scores = list(enumerate(cosine_sim[job_idx]))\n",
        "  sim_scores = sorted(sim_scores, key=lambda x: x[1], reverse=True)\n",
        "  sim_scores = sim_scores[1:top]\n",
        "  jobs = [i[0] for i in sim_scores]\n",
        "\n",
        "  return df.iloc[jobs]"
      ],
      "execution_count": null,
      "outputs": []
    },
    {
      "cell_type": "code",
      "metadata": {
        "colab": {
          "base_uri": "https://localhost:8080/",
          "height": 557
        },
        "id": "WucIjFkMuEBz",
        "outputId": "08099e2f-c8a8-41e9-89e9-c2b4a98e2d58"
      },
      "source": [
        "find_similar_jobs(20, 15)"
      ],
      "execution_count": null,
      "outputs": [
        {
          "output_type": "execute_result",
          "data": {
            "text/html": [
              "<div>\n",
              "<style scoped>\n",
              "    .dataframe tbody tr th:only-of-type {\n",
              "        vertical-align: middle;\n",
              "    }\n",
              "\n",
              "    .dataframe tbody tr th {\n",
              "        vertical-align: top;\n",
              "    }\n",
              "\n",
              "    .dataframe thead th {\n",
              "        text-align: right;\n",
              "    }\n",
              "</style>\n",
              "<table border=\"1\" class=\"dataframe\">\n",
              "  <thead>\n",
              "    <tr style=\"text-align: right;\">\n",
              "      <th></th>\n",
              "      <th>Company</th>\n",
              "      <th>Title</th>\n",
              "      <th>Description</th>\n",
              "      <th>Link</th>\n",
              "    </tr>\n",
              "  </thead>\n",
              "  <tbody>\n",
              "    <tr>\n",
              "      <th>19</th>\n",
              "      <td>TD</td>\n",
              "      <td>Data Scientist I</td>\n",
              "      <td>TD Description  Tell us your story. Don't go u...</td>\n",
              "      <td>https://ca.linkedin.com/jobs/view/data-scienti...</td>\n",
              "    </tr>\n",
              "    <tr>\n",
              "      <th>195</th>\n",
              "      <td>TD</td>\n",
              "      <td>Data Scientist I, AI/ML Model Testing Automati...</td>\n",
              "      <td>TD Description  Tell us your story. Don't go u...</td>\n",
              "      <td>https://ca.linkedin.com/jobs/view/data-scienti...</td>\n",
              "    </tr>\n",
              "    <tr>\n",
              "      <th>229</th>\n",
              "      <td>TD</td>\n",
              "      <td>Data Scientist I, AI/ML Model Testing Automati...</td>\n",
              "      <td>TD Description  Tell us your story. Don't go u...</td>\n",
              "      <td>https://ca.linkedin.com/jobs/view/data-scienti...</td>\n",
              "    </tr>\n",
              "    <tr>\n",
              "      <th>122</th>\n",
              "      <td>Vanguard</td>\n",
              "      <td>Data Scientist II</td>\n",
              "      <td>At Vanguard, our mission is to help investors ...</td>\n",
              "      <td>https://ca.linkedin.com/jobs/view/data-scienti...</td>\n",
              "    </tr>\n",
              "    <tr>\n",
              "      <th>191</th>\n",
              "      <td>407 ETR</td>\n",
              "      <td>Data Scientist</td>\n",
              "      <td>Position Summary:  The successful candidate wi...</td>\n",
              "      <td>https://ca.linkedin.com/jobs/view/data-scienti...</td>\n",
              "    </tr>\n",
              "    <tr>\n",
              "      <th>189</th>\n",
              "      <td>TELUS</td>\n",
              "      <td>Data Scientist/Engineer</td>\n",
              "      <td>Join our team  Are you obsessed with data and ...</td>\n",
              "      <td>https://ca.linkedin.com/jobs/view/data-scienti...</td>\n",
              "    </tr>\n",
              "    <tr>\n",
              "      <th>4</th>\n",
              "      <td>Hudson's Bay</td>\n",
              "      <td>The Bay | Jr. Data Scientist</td>\n",
              "      <td>Design, develop, test, advocate and build pred...</td>\n",
              "      <td>https://www.glassdoor.com/partner/jobListing.h...</td>\n",
              "    </tr>\n",
              "    <tr>\n",
              "      <th>393</th>\n",
              "      <td>Workday</td>\n",
              "      <td>Sr Business Insights Analyst/Data Scientist</td>\n",
              "      <td>Do what you love. Love what you do.  At Workd...</td>\n",
              "      <td>https://ca.linkedin.com/jobs/view/sr-business-...</td>\n",
              "    </tr>\n",
              "    <tr>\n",
              "      <th>293</th>\n",
              "      <td>Hudson's Bay</td>\n",
              "      <td>The Bay | Data Scientist</td>\n",
              "      <td>Who We Are  As North America’s oldest start-up...</td>\n",
              "      <td>https://ca.linkedin.com/jobs/view/the-bay-data...</td>\n",
              "    </tr>\n",
              "    <tr>\n",
              "      <th>106</th>\n",
              "      <td>First West Credit Union</td>\n",
              "      <td>Data Scientist</td>\n",
              "      <td>We are currently seeking a Data Scientist to j...</td>\n",
              "      <td>https://ca.linkedin.com/jobs/view/data-scienti...</td>\n",
              "    </tr>\n",
              "    <tr>\n",
              "      <th>565</th>\n",
              "      <td>Tundra Technical Solutions</td>\n",
              "      <td>Data Scientist - Senior (contract)</td>\n",
              "      <td>Job Summary  Job description:  You will be par...</td>\n",
              "      <td>https://ca.linkedin.com/jobs/view/data-scienti...</td>\n",
              "    </tr>\n",
              "    <tr>\n",
              "      <th>157</th>\n",
              "      <td>Rogers Communications.css-1pmc6te{-webkit-alig...</td>\n",
              "      <td>Manager - Data Analytics</td>\n",
              "      <td>\\nCollect and extract data from multiple sourc...</td>\n",
              "      <td>https://www.glassdoor.com/partner/jobListing.h...</td>\n",
              "    </tr>\n",
              "    <tr>\n",
              "      <th>115</th>\n",
              "      <td>Bevertec CST Inc.css-1pmc6te{-webkit-align-ite...</td>\n",
              "      <td>Director, Data Science</td>\n",
              "      <td>Ongoing practice and process development looki...</td>\n",
              "      <td>https://www.glassdoor.com/partner/jobListing.h...</td>\n",
              "    </tr>\n",
              "    <tr>\n",
              "      <th>32</th>\n",
              "      <td>National Bank of Canada</td>\n",
              "      <td>Data Scientist Rotation Program</td>\n",
              "      <td>Description  Are you a fan of Big Data? Are yo...</td>\n",
              "      <td>https://ca.linkedin.com/jobs/view/data-scienti...</td>\n",
              "    </tr>\n",
              "  </tbody>\n",
              "</table>\n",
              "</div>"
            ],
            "text/plain": [
              "                                               Company  ...                                               Link\n",
              "19                                                  TD  ...  https://ca.linkedin.com/jobs/view/data-scienti...\n",
              "195                                                 TD  ...  https://ca.linkedin.com/jobs/view/data-scienti...\n",
              "229                                                 TD  ...  https://ca.linkedin.com/jobs/view/data-scienti...\n",
              "122                                           Vanguard  ...  https://ca.linkedin.com/jobs/view/data-scienti...\n",
              "191                                            407 ETR  ...  https://ca.linkedin.com/jobs/view/data-scienti...\n",
              "189                                              TELUS  ...  https://ca.linkedin.com/jobs/view/data-scienti...\n",
              "4                                         Hudson's Bay  ...  https://www.glassdoor.com/partner/jobListing.h...\n",
              "393                                            Workday  ...  https://ca.linkedin.com/jobs/view/sr-business-...\n",
              "293                                       Hudson's Bay  ...  https://ca.linkedin.com/jobs/view/the-bay-data...\n",
              "106                            First West Credit Union  ...  https://ca.linkedin.com/jobs/view/data-scienti...\n",
              "565                         Tundra Technical Solutions  ...  https://ca.linkedin.com/jobs/view/data-scienti...\n",
              "157  Rogers Communications.css-1pmc6te{-webkit-alig...  ...  https://www.glassdoor.com/partner/jobListing.h...\n",
              "115  Bevertec CST Inc.css-1pmc6te{-webkit-align-ite...  ...  https://www.glassdoor.com/partner/jobListing.h...\n",
              "32                             National Bank of Canada  ...  https://ca.linkedin.com/jobs/view/data-scienti...\n",
              "\n",
              "[14 rows x 4 columns]"
            ]
          },
          "metadata": {},
          "execution_count": 29
        }
      ]
    },
    {
      "cell_type": "markdown",
      "source": [
        "References: \n",
        "\n",
        "https://www.analyticsvidhya.com/blog/2021/05/build-your-own-nlp-based-search-engine-using-bm25/\n",
        "\n",
        "https://www.datacamp.com/community/tutorials/recommender-systems-python"
      ],
      "metadata": {
        "id": "VIZHCjuvvAKK"
      }
    }
  ]
}
